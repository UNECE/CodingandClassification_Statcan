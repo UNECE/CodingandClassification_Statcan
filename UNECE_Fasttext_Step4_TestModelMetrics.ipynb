{
 "cells": [
  {
   "cell_type": "markdown",
   "metadata": {},
   "source": [
    "## The following European Classification of Individual Consumption according to Purpose (ECOICOP) data used for this example is open-source, provided by Statistics Poland\n",
    "\n",
    "#### Link: https://github.com/UNECE/ML_dataset"
   ]
  },
  {
   "cell_type": "code",
   "execution_count": 39,
   "metadata": {},
   "outputs": [],
   "source": [
    "import fasttext\n",
    "import os\n",
    "import pandas as pd\n",
    "import numpy as np\n",
    "import pickle"
   ]
  },
  {
   "cell_type": "markdown",
   "metadata": {},
   "source": [
    "## Define folder locations"
   ]
  },
  {
   "cell_type": "code",
   "execution_count": 40,
   "metadata": {},
   "outputs": [],
   "source": [
    "model_dir = \"C:\\\\Users\\\\Justin Evans\\\\Documents\\\\Python\\\\UNECE\\\\Poland_FastText\\\\\"\n",
    "output_dir = (\"C:\\\\Users\\\\Justin Evans\\\\Documents\\\\Python\\\\UNECE\\\\Poland_FastText\\\\\")"
   ]
  },
  {
   "cell_type": "markdown",
   "metadata": {},
   "source": [
    "## Define the metric values"
   ]
  },
  {
   "cell_type": "code",
   "execution_count": 41,
   "metadata": {},
   "outputs": [],
   "source": [
    "# define a confidence threshold above which we will recalculate accuracy, coding rate\n",
    "threshold = 0.95\n",
    "\n",
    "# bootstrap the test file\n",
    "iterations = 1000 # number of iterations run in the bootstrap\n",
    "size = 0.2 # sample taken each iteration"
   ]
  },
  {
   "cell_type": "markdown",
   "metadata": {},
   "source": [
    "## Load the model and predict on the test dataset"
   ]
  },
  {
   "cell_type": "code",
   "execution_count": 42,
   "metadata": {},
   "outputs": [
    {
     "name": "stderr",
     "output_type": "stream",
     "text": [
      "\n"
     ]
    }
   ],
   "source": [
    "loaded_model = fasttext.load_model(model_dir+\"model.bin\")\n",
    "test_data = os.path.join(os.getenv(\"DATADIR\",\"\"),model_dir+\"test.txt\")"
   ]
  },
  {
   "cell_type": "code",
   "execution_count": 43,
   "metadata": {},
   "outputs": [
    {
     "data": {
      "text/plain": [
       "(('__label__032',), array([0.21888724]))"
      ]
     },
     "execution_count": 43,
     "metadata": {},
     "output_type": "execute_result"
    }
   ],
   "source": [
    "loaded_model.predict(\"this is an example\")"
   ]
  },
  {
   "cell_type": "code",
   "execution_count": 44,
   "metadata": {},
   "outputs": [
    {
     "data": {
      "text/html": [
       "<div>\n",
       "<style scoped>\n",
       "    .dataframe tbody tr th:only-of-type {\n",
       "        vertical-align: middle;\n",
       "    }\n",
       "\n",
       "    .dataframe tbody tr th {\n",
       "        vertical-align: top;\n",
       "    }\n",
       "\n",
       "    .dataframe thead th {\n",
       "        text-align: right;\n",
       "    }\n",
       "</style>\n",
       "<table border=\"1\" class=\"dataframe\">\n",
       "  <thead>\n",
       "    <tr style=\"text-align: right;\">\n",
       "      <th></th>\n",
       "      <th>text</th>\n",
       "      <th>code_text</th>\n",
       "      <th>code</th>\n",
       "      <th>formatted</th>\n",
       "      <th>pred</th>\n",
       "      <th>score</th>\n",
       "      <th>code_text_pred</th>\n",
       "    </tr>\n",
       "  </thead>\n",
       "  <tbody>\n",
       "    <tr>\n",
       "      <th>0</th>\n",
       "      <td>filets de maquereaux a l&amp;#39;huile vegetale et</td>\n",
       "      <td>Autres préparations de poisson et de fruits de...</td>\n",
       "      <td>008</td>\n",
       "      <td>__label__008 filets de maquereaux a l&amp;#39;huil...</td>\n",
       "      <td>008</td>\n",
       "      <td>0.985303</td>\n",
       "      <td>Autres préparations de poisson et de fruits de...</td>\n",
       "    </tr>\n",
       "    <tr>\n",
       "      <th>1</th>\n",
       "      <td>grand glace aux graines de pavot d&amp;#39;or au c...</td>\n",
       "      <td>crème glacée</td>\n",
       "      <td>053</td>\n",
       "      <td>__label__053 grand glace aux graines de pavot ...</td>\n",
       "      <td>053</td>\n",
       "      <td>0.965585</td>\n",
       "      <td>crème glacée</td>\n",
       "    </tr>\n",
       "    <tr>\n",
       "      <th>2</th>\n",
       "      <td>kabanos de saucisses polonaises a la volaille ...</td>\n",
       "      <td>viandes</td>\n",
       "      <td>059</td>\n",
       "      <td>__label__059 kabanos de saucisses polonaises a...</td>\n",
       "      <td>059</td>\n",
       "      <td>0.996574</td>\n",
       "      <td>viandes</td>\n",
       "    </tr>\n",
       "    <tr>\n",
       "      <th>3</th>\n",
       "      <td>salade de legumes cuisine polonaise</td>\n",
       "      <td>Légumes secs et autres préparations à base de ...</td>\n",
       "      <td>033</td>\n",
       "      <td>__label__033 salade de legumes cuisine polonaise</td>\n",
       "      <td>033</td>\n",
       "      <td>0.914373</td>\n",
       "      <td>Légumes secs et autres préparations à base de ...</td>\n",
       "    </tr>\n",
       "    <tr>\n",
       "      <th>4</th>\n",
       "      <td>dessert corse chocolat pour enrober la pate 64...</td>\n",
       "      <td>chocolat</td>\n",
       "      <td>052</td>\n",
       "      <td>__label__052 dessert corse chocolat pour enrob...</td>\n",
       "      <td>052</td>\n",
       "      <td>0.672030</td>\n",
       "      <td>chocolat</td>\n",
       "    </tr>\n",
       "  </tbody>\n",
       "</table>\n",
       "</div>"
      ],
      "text/plain": [
       "                                                text  \\\n",
       "0     filets de maquereaux a l&#39;huile vegetale et   \n",
       "1  grand glace aux graines de pavot d&#39;or au c...   \n",
       "2  kabanos de saucisses polonaises a la volaille ...   \n",
       "3                salade de legumes cuisine polonaise   \n",
       "4  dessert corse chocolat pour enrober la pate 64...   \n",
       "\n",
       "                                           code_text code  \\\n",
       "0  Autres préparations de poisson et de fruits de...  008   \n",
       "1                                       crème glacée  053   \n",
       "2                                            viandes  059   \n",
       "3  Légumes secs et autres préparations à base de ...  033   \n",
       "4                                           chocolat  052   \n",
       "\n",
       "                                           formatted pred     score  \\\n",
       "0  __label__008 filets de maquereaux a l&#39;huil...  008  0.985303   \n",
       "1  __label__053 grand glace aux graines de pavot ...  053  0.965585   \n",
       "2  __label__059 kabanos de saucisses polonaises a...  059  0.996574   \n",
       "3   __label__033 salade de legumes cuisine polonaise  033  0.914373   \n",
       "4  __label__052 dessert corse chocolat pour enrob...  052  0.672030   \n",
       "\n",
       "                                      code_text_pred  \n",
       "0  Autres préparations de poisson et de fruits de...  \n",
       "1                                       crème glacée  \n",
       "2                                            viandes  \n",
       "3  Légumes secs et autres préparations à base de ...  \n",
       "4                                           chocolat  "
      ]
     },
     "execution_count": 44,
     "metadata": {},
     "output_type": "execute_result"
    }
   ],
   "source": [
    "# load the test data for manual verification and to assess predictions\n",
    "df = pd.read_csv(model_dir+\"test.csv\", encoding='UTF-8', dtype=str)\n",
    "df.drop(\"Unnamed: 0\",axis=1,inplace=True)\n",
    "\n",
    "pred_classes = []\n",
    "scores = []\n",
    "\n",
    "# have the model predict on each line in the column 'formatted'\n",
    "for line in df['formatted']:\n",
    "    split = line.split(\"__label__\",1)\n",
    "    text = split[1]\n",
    "    pred = loaded_model.predict(text)\n",
    "    pred_class = pred[0][0].replace(\"__label__\",\"\")\n",
    "    pred_score = pred[1][0]\n",
    "    pred_classes.append(pred_class)\n",
    "    scores.append(pred_score)\n",
    "    \n",
    "df['pred'] = pred_classes\n",
    "df['score'] = scores\n",
    "   \n",
    "# add the code_key back\n",
    "with open(\"code_key.txt\", \"rb\") as file:\n",
    "    code_dict = pickle.load(file)\n",
    "    inv_map = {v: k for k, v in code_dict.items()} \n",
    "df['code_text_pred'] = df.pred.map(inv_map)\n",
    "    \n",
    "df.head()"
   ]
  },
  {
   "cell_type": "markdown",
   "metadata": {},
   "source": [
    "## Evaluation Metrics"
   ]
  },
  {
   "cell_type": "code",
   "execution_count": 45,
   "metadata": {},
   "outputs": [],
   "source": [
    "from sklearn.metrics import classification_report, accuracy_score\n",
    "from sklearn.utils import resample\n",
    "from pandas import DataFrame"
   ]
  },
  {
   "cell_type": "code",
   "execution_count": 46,
   "metadata": {},
   "outputs": [],
   "source": [
    "# create lists to for evaluation metrics\n",
    "\n",
    "# fix column types\n",
    "df[\"pred\"] = df[\"pred\"].astype(str)\n",
    "df[\"code_text_pred\"] = df[\"code_text_pred\"].astype(str)\n",
    "\n",
    "# convert df to list\n",
    "list_actual = df[\"code_text\"].tolist()\n",
    "list_predicted = df[\"code_text_pred\"].tolist()"
   ]
  },
  {
   "cell_type": "code",
   "execution_count": 47,
   "metadata": {},
   "outputs": [
    {
     "name": "stdout",
     "output_type": "stream",
     "text": [
      "Overall Accuracy: 97.08\n",
      "Threshold Applied: 0.95\n",
      "Accuracy: 99.35\n",
      "Coding Rate: 71.99\n"
     ]
    }
   ],
   "source": [
    "# basic metrics for accuracy \n",
    "df_threshold = df[df['score'] > threshold] # create a dataframe with only predictions above the defined threshold\n",
    "\n",
    "overall_acc = round(accuracy_score(df.code_text, df.code_text_pred)*100,2)\n",
    "accuracy = round(accuracy_score(df_threshold.code_text, df_threshold.code_text_pred)*100,2)\n",
    "codingrate = round((df_threshold.shape[0]/df.shape[0])*100,2)\n",
    "\n",
    "print(\"Overall Accuracy:\",overall_acc)\n",
    "print(\"Threshold Applied:\", threshold)\n",
    "print(\"Accuracy:\",accuracy)\n",
    "print(\"Coding Rate:\",codingrate)"
   ]
  },
  {
   "cell_type": "code",
   "execution_count": 48,
   "metadata": {},
   "outputs": [
    {
     "data": {
      "text/html": [
       "<div>\n",
       "<style scoped>\n",
       "    .dataframe tbody tr th:only-of-type {\n",
       "        vertical-align: middle;\n",
       "    }\n",
       "\n",
       "    .dataframe tbody tr th {\n",
       "        vertical-align: top;\n",
       "    }\n",
       "\n",
       "    .dataframe thead th {\n",
       "        text-align: right;\n",
       "    }\n",
       "</style>\n",
       "<table border=\"1\" class=\"dataframe\">\n",
       "  <thead>\n",
       "    <tr style=\"text-align: right;\">\n",
       "      <th></th>\n",
       "      <th>f1-score</th>\n",
       "      <th>precision</th>\n",
       "      <th>recall</th>\n",
       "      <th>support</th>\n",
       "      <th>class</th>\n",
       "    </tr>\n",
       "  </thead>\n",
       "  <tbody>\n",
       "    <tr>\n",
       "      <th>0</th>\n",
       "      <td>0.909091</td>\n",
       "      <td>1.000000</td>\n",
       "      <td>0.833333</td>\n",
       "      <td>6.0</td>\n",
       "      <td>Autres graisses animales</td>\n",
       "    </tr>\n",
       "    <tr>\n",
       "      <th>1</th>\n",
       "      <td>1.000000</td>\n",
       "      <td>1.000000</td>\n",
       "      <td>1.000000</td>\n",
       "      <td>21.0</td>\n",
       "      <td>Autres huiles comestibles</td>\n",
       "    </tr>\n",
       "    <tr>\n",
       "      <th>2</th>\n",
       "      <td>0.833333</td>\n",
       "      <td>1.000000</td>\n",
       "      <td>0.714286</td>\n",
       "      <td>7.0</td>\n",
       "      <td>Autres légumes à légumes et préparations à bas...</td>\n",
       "    </tr>\n",
       "    <tr>\n",
       "      <th>3</th>\n",
       "      <td>0.953488</td>\n",
       "      <td>0.959064</td>\n",
       "      <td>0.947977</td>\n",
       "      <td>173.0</td>\n",
       "      <td>Autres produits alimentaires nca</td>\n",
       "    </tr>\n",
       "    <tr>\n",
       "      <th>4</th>\n",
       "      <td>0.914286</td>\n",
       "      <td>0.888889</td>\n",
       "      <td>0.941176</td>\n",
       "      <td>17.0</td>\n",
       "      <td>Autres produits céréaliers</td>\n",
       "    </tr>\n",
       "    <tr>\n",
       "      <th>5</th>\n",
       "      <td>0.966981</td>\n",
       "      <td>0.966981</td>\n",
       "      <td>0.966981</td>\n",
       "      <td>212.0</td>\n",
       "      <td>Autres produits de boulangerie</td>\n",
       "    </tr>\n",
       "    <tr>\n",
       "      <th>6</th>\n",
       "      <td>0.993197</td>\n",
       "      <td>0.986486</td>\n",
       "      <td>1.000000</td>\n",
       "      <td>73.0</td>\n",
       "      <td>Autres produits laitiers</td>\n",
       "    </tr>\n",
       "    <tr>\n",
       "      <th>7</th>\n",
       "      <td>0.970588</td>\n",
       "      <td>0.961165</td>\n",
       "      <td>0.980198</td>\n",
       "      <td>101.0</td>\n",
       "      <td>Autres préparations de poisson et de fruits de...</td>\n",
       "    </tr>\n",
       "    <tr>\n",
       "      <th>8</th>\n",
       "      <td>0.956522</td>\n",
       "      <td>0.936170</td>\n",
       "      <td>0.977778</td>\n",
       "      <td>45.0</td>\n",
       "      <td>Autres préparations de viande</td>\n",
       "    </tr>\n",
       "    <tr>\n",
       "      <th>9</th>\n",
       "      <td>0.857143</td>\n",
       "      <td>1.000000</td>\n",
       "      <td>0.750000</td>\n",
       "      <td>4.0</td>\n",
       "      <td>Autres viandes</td>\n",
       "    </tr>\n",
       "  </tbody>\n",
       "</table>\n",
       "</div>"
      ],
      "text/plain": [
       "   f1-score  precision    recall  support  \\\n",
       "0  0.909091   1.000000  0.833333      6.0   \n",
       "1  1.000000   1.000000  1.000000     21.0   \n",
       "2  0.833333   1.000000  0.714286      7.0   \n",
       "3  0.953488   0.959064  0.947977    173.0   \n",
       "4  0.914286   0.888889  0.941176     17.0   \n",
       "5  0.966981   0.966981  0.966981    212.0   \n",
       "6  0.993197   0.986486  1.000000     73.0   \n",
       "7  0.970588   0.961165  0.980198    101.0   \n",
       "8  0.956522   0.936170  0.977778     45.0   \n",
       "9  0.857143   1.000000  0.750000      4.0   \n",
       "\n",
       "                                               class  \n",
       "0                           Autres graisses animales  \n",
       "1                          Autres huiles comestibles  \n",
       "2  Autres légumes à légumes et préparations à bas...  \n",
       "3                   Autres produits alimentaires nca  \n",
       "4                         Autres produits céréaliers  \n",
       "5                     Autres produits de boulangerie  \n",
       "6                           Autres produits laitiers  \n",
       "7  Autres préparations de poisson et de fruits de...  \n",
       "8                      Autres préparations de viande  \n",
       "9                                     Autres viandes  "
      ]
     },
     "execution_count": 48,
     "metadata": {},
     "output_type": "execute_result"
    }
   ],
   "source": [
    "# classification report\n",
    "\n",
    "report = classification_report(list_actual, list_predicted, output_dict=True)\n",
    "df_class = pd.DataFrame(report).transpose()\n",
    "df_class[\"class\"] = df_class.index\n",
    "df_class = df_class.reset_index(drop=True)\n",
    "df_class.to_csv(output_dir + \"classification_report.csv\")\n",
    "\n",
    "df_class.head(10)"
   ]
  },
  {
   "cell_type": "code",
   "execution_count": 49,
   "metadata": {},
   "outputs": [
    {
     "data": {
      "text/html": [
       "<div>\n",
       "<style scoped>\n",
       "    .dataframe tbody tr th:only-of-type {\n",
       "        vertical-align: middle;\n",
       "    }\n",
       "\n",
       "    .dataframe tbody tr th {\n",
       "        vertical-align: top;\n",
       "    }\n",
       "\n",
       "    .dataframe thead th {\n",
       "        text-align: right;\n",
       "    }\n",
       "</style>\n",
       "<table border=\"1\" class=\"dataframe\">\n",
       "  <thead>\n",
       "    <tr style=\"text-align: right;\">\n",
       "      <th></th>\n",
       "      <th>f1-score</th>\n",
       "      <th>precision</th>\n",
       "      <th>recall</th>\n",
       "      <th>support</th>\n",
       "      <th>class</th>\n",
       "    </tr>\n",
       "  </thead>\n",
       "  <tbody>\n",
       "    <tr>\n",
       "      <th>63</th>\n",
       "      <td>0.970608</td>\n",
       "      <td>0.971212</td>\n",
       "      <td>0.970760</td>\n",
       "      <td>3420.0</td>\n",
       "      <td>weighted avg</td>\n",
       "    </tr>\n",
       "    <tr>\n",
       "      <th>62</th>\n",
       "      <td>0.955313</td>\n",
       "      <td>0.965621</td>\n",
       "      <td>0.950552</td>\n",
       "      <td>3420.0</td>\n",
       "      <td>macro avg</td>\n",
       "    </tr>\n",
       "    <tr>\n",
       "      <th>61</th>\n",
       "      <td>0.970760</td>\n",
       "      <td>0.970760</td>\n",
       "      <td>0.970760</td>\n",
       "      <td>3420.0</td>\n",
       "      <td>micro avg</td>\n",
       "    </tr>\n",
       "  </tbody>\n",
       "</table>\n",
       "</div>"
      ],
      "text/plain": [
       "    f1-score  precision    recall  support         class\n",
       "63  0.970608   0.971212  0.970760   3420.0  weighted avg\n",
       "62  0.955313   0.965621  0.950552   3420.0     macro avg\n",
       "61  0.970760   0.970760  0.970760   3420.0     micro avg"
      ]
     },
     "execution_count": 49,
     "metadata": {},
     "output_type": "execute_result"
    }
   ],
   "source": [
    "# overall F1, precision, recall metrics are included in the classification report\n",
    "f1_weighted_avg = df_class.iloc[-1,0]\n",
    "precision_weighted_avg = df_class.iloc[-1,0]\n",
    "recall_weighted_avg = df_class.iloc[-1,2]\n",
    "\n",
    "f1_macro_avg = df_class.iloc[-2,0]\n",
    "precision_macro_avg = df_class.iloc[-2,0]\n",
    "recall_macro_avg = df_class.iloc[-2,2]\n",
    "\n",
    "# create a df to show data\n",
    "df_metrics = df_class.iloc[[-1,-2,-3]]\n",
    "df_metrics.head()"
   ]
  },
  {
   "cell_type": "code",
   "execution_count": 50,
   "metadata": {},
   "outputs": [
    {
     "name": "stdout",
     "output_type": "stream",
     "text": [
      "95.0 confidence interval 95.6% and 98.2%\n"
     ]
    }
   ],
   "source": [
    "# bootstrap - source: machinelearningmastery.com/calculate-bootstrap-confidence-intervals-machine-learning-results-python/\n",
    "\n",
    "def bootstrap(df):\n",
    "    # run bootstrap\n",
    "    n_iterations = iterations\n",
    "    n_size = int(len(df) * float(size))\n",
    "    stats = list()\n",
    "\n",
    "    for i in range(n_iterations):\n",
    "        boot = resample(df, n_samples=n_size)\n",
    "        code = boot.code_text\n",
    "        pred = boot.code_text_pred\n",
    "        score = accuracy_score(code, pred)\n",
    "        stats.append(score)\n",
    "\n",
    "    # confidence intervals\n",
    "    alpha = 0.95\n",
    "    p = ((1.0 - alpha) / 2.0) * 100\n",
    "    lower = max(0.0, np.percentile(stats, p))\n",
    "    p = (alpha + ((1.0 - alpha) / 2.0)) * 100\n",
    "    upper = min(1.0, np.percentile(stats, p))\n",
    "    \n",
    "    print('%.1f confidence interval %.1f%% and %.1f%%' % (alpha * 100, lower * 100, upper * 100))\n",
    "\n",
    "bootstrap(df)"
   ]
  },
  {
   "cell_type": "markdown",
   "metadata": {},
   "source": [
    "## Export Metrics"
   ]
  },
  {
   "cell_type": "code",
   "execution_count": 51,
   "metadata": {},
   "outputs": [],
   "source": [
    "# produce a report with model evaluation metrics\n",
    "report = open(model_dir+\"MODEL_METRICS.txt\",\"w\")\n",
    "lines = [\"Overall Accuracy: \"+str(overall_acc)+\"\\n\",\n",
    "        \"Threshold Applied: \"+str(threshold)+\"\\n\", \n",
    "        \"Accuracy: \"+str(accuracy)+\"\\n\", \n",
    "        \"Coding Rate:\"+str(codingrate)+\"\\n\"+\"\\n\", \n",
    "         \n",
    "         \n",
    "        'Type: '+str('Weighted Average')+\", \"+str('Macro Average')+\"\\n\",\n",
    "        'F1_score: '+str(f1_weighted_avg)+\", \"+str(f1_macro_avg)+\"\\n\",         \n",
    "        'Precision: '+str(precision_weighted_avg)+\", \"+str(precision_macro_avg)+\"\\n\",      \n",
    "        'Recall: '+str(recall_weighted_avg)+\", \"+str(recall_macro_avg)+\"\\n\",      \n",
    "        ]\n",
    "report.writelines(lines) \n",
    "report.close()"
   ]
  },
  {
   "cell_type": "code",
   "execution_count": 52,
   "metadata": {},
   "outputs": [
    {
     "name": "stdout",
     "output_type": "stream",
     "text": [
      "done\n"
     ]
    }
   ],
   "source": [
    "print('done')"
   ]
  }
 ],
 "metadata": {
  "kernelspec": {
   "display_name": "Python 3",
   "language": "python",
   "name": "python3"
  },
  "language_info": {
   "codemirror_mode": {
    "name": "ipython",
    "version": 3
   },
   "file_extension": ".py",
   "mimetype": "text/x-python",
   "name": "python",
   "nbconvert_exporter": "python",
   "pygments_lexer": "ipython3",
   "version": "3.7.3"
  }
 },
 "nbformat": 4,
 "nbformat_minor": 2
}
