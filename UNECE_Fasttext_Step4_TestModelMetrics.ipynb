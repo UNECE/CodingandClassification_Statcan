{
 "cells": [
  {
   "cell_type": "code",
   "execution_count": 113,
   "metadata": {},
   "outputs": [],
   "source": [
    "# The following European Classification of Individual Consumption according to Purpose (ECOICOP) data \n",
    "# used for this example is open-source, provided by Statistics Poland\n",
    "\n",
    "# Link: https://github.com/UNECE/ML_dataset"
   ]
  },
  {
   "cell_type": "code",
   "execution_count": 114,
   "metadata": {},
   "outputs": [],
   "source": [
    "import fasttext\n",
    "import os\n",
    "import pandas as pd\n",
    "import pickle"
   ]
  },
  {
   "cell_type": "code",
   "execution_count": 115,
   "metadata": {},
   "outputs": [],
   "source": [
    "### Define file locations ###\n",
    "model_dir = \"C:\\\\Users\\\\Justin Evans\\\\Documents\\\\Python\\\\UNECE\\\\Poland_FastText\\\\\"\n",
    "output_dir = (\"C:\\\\Users\\\\Justin Evans\\\\Documents\\\\Python\\\\UNECE\\\\Poland_FastText\\\\\")\n",
    "\n",
    "# model confidence threshold to apply\n",
    "threshold = 0.95\n"
   ]
  },
  {
   "cell_type": "code",
   "execution_count": 116,
   "metadata": {},
   "outputs": [
    {
     "name": "stderr",
     "output_type": "stream",
     "text": [
      "\n"
     ]
    }
   ],
   "source": [
    "loaded_model = fasttext.load_model(model_dir+\"model.bin\")\n",
    "test_data = os.path.join(os.getenv(\"DATADIR\",\"\"),model_dir+\"test.txt\")\n",
    "overall_acc = loaded_model.test(test_data)[1]"
   ]
  },
  {
   "cell_type": "code",
   "execution_count": 117,
   "metadata": {},
   "outputs": [
    {
     "data": {
      "text/plain": [
       "(('__label__032',), array([0.21888724]))"
      ]
     },
     "execution_count": 117,
     "metadata": {},
     "output_type": "execute_result"
    }
   ],
   "source": [
    "loaded_model.predict(\"this is an example\")"
   ]
  },
  {
   "cell_type": "code",
   "execution_count": 118,
   "metadata": {},
   "outputs": [
    {
     "data": {
      "text/html": [
       "<div>\n",
       "<style scoped>\n",
       "    .dataframe tbody tr th:only-of-type {\n",
       "        vertical-align: middle;\n",
       "    }\n",
       "\n",
       "    .dataframe tbody tr th {\n",
       "        vertical-align: top;\n",
       "    }\n",
       "\n",
       "    .dataframe thead th {\n",
       "        text-align: right;\n",
       "    }\n",
       "</style>\n",
       "<table border=\"1\" class=\"dataframe\">\n",
       "  <thead>\n",
       "    <tr style=\"text-align: right;\">\n",
       "      <th></th>\n",
       "      <th>text</th>\n",
       "      <th>code_text</th>\n",
       "      <th>code</th>\n",
       "      <th>formatted</th>\n",
       "      <th>pred</th>\n",
       "      <th>score</th>\n",
       "      <th>match</th>\n",
       "      <th>code_text_pred</th>\n",
       "    </tr>\n",
       "  </thead>\n",
       "  <tbody>\n",
       "    <tr>\n",
       "      <th>0</th>\n",
       "      <td>wloszczowski fromage cottage demi gras 400 g</td>\n",
       "      <td>Fromage et caillé</td>\n",
       "      <td>020</td>\n",
       "      <td>__label__020 wloszczowski fromage cottage demi...</td>\n",
       "      <td>020</td>\n",
       "      <td>0.999904</td>\n",
       "      <td>1</td>\n",
       "      <td>Fromage et caillé</td>\n",
       "    </tr>\n",
       "    <tr>\n",
       "      <th>1</th>\n",
       "      <td>dawn bakery mini baguette d&amp;#39;environ 45 cm</td>\n",
       "      <td>pain</td>\n",
       "      <td>054</td>\n",
       "      <td>__label__054 dawn bakery mini baguette d&amp;#39;e...</td>\n",
       "      <td>054</td>\n",
       "      <td>0.830544</td>\n",
       "      <td>1</td>\n",
       "      <td>pain</td>\n",
       "    </tr>\n",
       "    <tr>\n",
       "      <th>2</th>\n",
       "      <td>creme glacee a la fraise et au lait algida big...</td>\n",
       "      <td>crème glacée</td>\n",
       "      <td>053</td>\n",
       "      <td>__label__053 creme glacee a la fraise et au la...</td>\n",
       "      <td>053</td>\n",
       "      <td>0.999382</td>\n",
       "      <td>1</td>\n",
       "      <td>crème glacée</td>\n",
       "    </tr>\n",
       "    <tr>\n",
       "      <th>3</th>\n",
       "      <td>yaourt a la fraise skyr</td>\n",
       "      <td>yaourt</td>\n",
       "      <td>060</td>\n",
       "      <td>__label__060 yaourt a la fraise skyr</td>\n",
       "      <td>060</td>\n",
       "      <td>1.00001</td>\n",
       "      <td>1</td>\n",
       "      <td>yaourt</td>\n",
       "    </tr>\n",
       "    <tr>\n",
       "      <th>4</th>\n",
       "      <td>salami de fromage de serenade en tranches</td>\n",
       "      <td>Fromage et caillé</td>\n",
       "      <td>020</td>\n",
       "      <td>__label__020 salami de fromage de serenade en ...</td>\n",
       "      <td>020</td>\n",
       "      <td>0.999973</td>\n",
       "      <td>1</td>\n",
       "      <td>Fromage et caillé</td>\n",
       "    </tr>\n",
       "  </tbody>\n",
       "</table>\n",
       "</div>"
      ],
      "text/plain": [
       "                                                text          code_text code  \\\n",
       "0       wloszczowski fromage cottage demi gras 400 g  Fromage et caillé  020   \n",
       "1      dawn bakery mini baguette d&#39;environ 45 cm               pain  054   \n",
       "2  creme glacee a la fraise et au lait algida big...       crème glacée  053   \n",
       "3                            yaourt a la fraise skyr             yaourt  060   \n",
       "4          salami de fromage de serenade en tranches  Fromage et caillé  020   \n",
       "\n",
       "                                           formatted pred     score match  \\\n",
       "0  __label__020 wloszczowski fromage cottage demi...  020  0.999904     1   \n",
       "1  __label__054 dawn bakery mini baguette d&#39;e...  054  0.830544     1   \n",
       "2  __label__053 creme glacee a la fraise et au la...  053  0.999382     1   \n",
       "3               __label__060 yaourt a la fraise skyr  060   1.00001     1   \n",
       "4  __label__020 salami de fromage de serenade en ...  020  0.999973     1   \n",
       "\n",
       "      code_text_pred  \n",
       "0  Fromage et caillé  \n",
       "1               pain  \n",
       "2       crème glacée  \n",
       "3             yaourt  \n",
       "4  Fromage et caillé  "
      ]
     },
     "execution_count": 118,
     "metadata": {},
     "output_type": "execute_result"
    }
   ],
   "source": [
    "# load the test data for manual verification and to assess predictions\n",
    "df = pd.read_csv(model_dir+\"test.csv\", encoding='UTF-8', dtype=str)\n",
    "df.drop(\"Unnamed: 0\",axis=1,inplace=True)\n",
    "\n",
    "df[\"pred\"] =\"\"\n",
    "df[\"score\"] = \"\"\n",
    "df[\"match\"] = \"\"\n",
    "\n",
    "for index,row in df.iterrows():\n",
    "    pred = loaded_model.predict(row[\"formatted\"])\n",
    "    row[\"score\"] = pred[1][0]\n",
    "    row[\"pred\"] = pred[0][0]\n",
    "    row[\"pred\"] = row[\"pred\"].replace(\"__label__\",\"\")\n",
    "    row[\"match\"] = 1 if row[\"code\"] ==  row[\"pred\"] else 0\n",
    "    \n",
    "    \n",
    "# add the code_key back\n",
    "with open(\"code_key.txt\", \"rb\") as file:\n",
    "    code_dict = pickle.load(file)\n",
    "    inv_map = {v: k for k, v in code_dict.items()} \n",
    "df['code_text_pred'] = df.pred.map(inv_map)\n",
    "    \n",
    "df.head()\n"
   ]
  },
  {
   "cell_type": "code",
   "execution_count": 119,
   "metadata": {},
   "outputs": [
    {
     "name": "stdout",
     "output_type": "stream",
     "text": [
      "Overall Accuracy: 88.33\n",
      "Threshold Applied: 0.95\n",
      "Accuracy: 97.53\n",
      "Coding Rate: 66.2\n"
     ]
    }
   ],
   "source": [
    "# basic metrics for accuracy \n",
    "count = 0\n",
    "matches = 0\n",
    "for i,row in df.iterrows():\n",
    "    if row[\"score\"] <= threshold:\n",
    "        continue\n",
    "    matches += int(row[\"match\"])\n",
    "    count +=1\n",
    "\n",
    "accuracy = round(float(matches/count)*100, 2)\n",
    "codingrate = round(float(count/df.shape[0])*100, 2)\n",
    "overall_acc = round(loaded_model.test(test_data)[1]*100, 2)\n",
    "\n",
    "print(\"Overall Accuracy:\",overall_acc)\n",
    "print(\"Threshold Applied:\", threshold)\n",
    "print(\"Accuracy:\",accuracy)\n",
    "print(\"Coding Rate:\",codingrate)"
   ]
  },
  {
   "cell_type": "code",
   "execution_count": 120,
   "metadata": {},
   "outputs": [],
   "source": [
    "## Evaluate Model Performance ##\n",
    "\n",
    "# import sklearn\n",
    "from sklearn.metrics import classification_report\n",
    "from pandas import DataFrame"
   ]
  },
  {
   "cell_type": "code",
   "execution_count": 121,
   "metadata": {},
   "outputs": [],
   "source": [
    "# create lists to for evaluation metrics\n",
    "\n",
    "# fix column types\n",
    "df[\"pred\"] = df[\"pred\"].astype(str)\n",
    "df[\"code_text_pred\"] = df[\"code_text_pred\"].astype(str)\n",
    "\n",
    "# convert df to list\n",
    "list_actual = df[\"code_text\"].tolist()\n",
    "list_predicted = df[\"code_text_pred\"].tolist()"
   ]
  },
  {
   "cell_type": "code",
   "execution_count": 122,
   "metadata": {},
   "outputs": [
    {
     "data": {
      "text/html": [
       "<div>\n",
       "<style scoped>\n",
       "    .dataframe tbody tr th:only-of-type {\n",
       "        vertical-align: middle;\n",
       "    }\n",
       "\n",
       "    .dataframe tbody tr th {\n",
       "        vertical-align: top;\n",
       "    }\n",
       "\n",
       "    .dataframe thead th {\n",
       "        text-align: right;\n",
       "    }\n",
       "</style>\n",
       "<table border=\"1\" class=\"dataframe\">\n",
       "  <thead>\n",
       "    <tr style=\"text-align: right;\">\n",
       "      <th></th>\n",
       "      <th>f1-score</th>\n",
       "      <th>precision</th>\n",
       "      <th>recall</th>\n",
       "      <th>support</th>\n",
       "      <th>class</th>\n",
       "    </tr>\n",
       "  </thead>\n",
       "  <tbody>\n",
       "    <tr>\n",
       "      <th>0</th>\n",
       "      <td>0.800000</td>\n",
       "      <td>0.666667</td>\n",
       "      <td>1.000000</td>\n",
       "      <td>2.0</td>\n",
       "      <td>Autres graisses animales</td>\n",
       "    </tr>\n",
       "    <tr>\n",
       "      <th>1</th>\n",
       "      <td>0.971429</td>\n",
       "      <td>1.000000</td>\n",
       "      <td>0.944444</td>\n",
       "      <td>18.0</td>\n",
       "      <td>Autres huiles comestibles</td>\n",
       "    </tr>\n",
       "    <tr>\n",
       "      <th>2</th>\n",
       "      <td>0.823529</td>\n",
       "      <td>0.875000</td>\n",
       "      <td>0.777778</td>\n",
       "      <td>9.0</td>\n",
       "      <td>Autres légumes à légumes et préparations à bas...</td>\n",
       "    </tr>\n",
       "    <tr>\n",
       "      <th>3</th>\n",
       "      <td>0.865497</td>\n",
       "      <td>0.875740</td>\n",
       "      <td>0.855491</td>\n",
       "      <td>173.0</td>\n",
       "      <td>Autres produits alimentaires nca</td>\n",
       "    </tr>\n",
       "    <tr>\n",
       "      <th>4</th>\n",
       "      <td>0.585366</td>\n",
       "      <td>0.571429</td>\n",
       "      <td>0.600000</td>\n",
       "      <td>20.0</td>\n",
       "      <td>Autres produits céréaliers</td>\n",
       "    </tr>\n",
       "    <tr>\n",
       "      <th>5</th>\n",
       "      <td>0.845771</td>\n",
       "      <td>0.825243</td>\n",
       "      <td>0.867347</td>\n",
       "      <td>196.0</td>\n",
       "      <td>Autres produits de boulangerie</td>\n",
       "    </tr>\n",
       "    <tr>\n",
       "      <th>6</th>\n",
       "      <td>0.884354</td>\n",
       "      <td>0.902778</td>\n",
       "      <td>0.866667</td>\n",
       "      <td>75.0</td>\n",
       "      <td>Autres produits laitiers</td>\n",
       "    </tr>\n",
       "    <tr>\n",
       "      <th>7</th>\n",
       "      <td>0.888889</td>\n",
       "      <td>0.880000</td>\n",
       "      <td>0.897959</td>\n",
       "      <td>98.0</td>\n",
       "      <td>Autres préparations de poisson et de fruits de...</td>\n",
       "    </tr>\n",
       "    <tr>\n",
       "      <th>8</th>\n",
       "      <td>0.717949</td>\n",
       "      <td>0.682927</td>\n",
       "      <td>0.756757</td>\n",
       "      <td>37.0</td>\n",
       "      <td>Autres préparations de viande</td>\n",
       "    </tr>\n",
       "    <tr>\n",
       "      <th>9</th>\n",
       "      <td>0.888889</td>\n",
       "      <td>1.000000</td>\n",
       "      <td>0.800000</td>\n",
       "      <td>5.0</td>\n",
       "      <td>Autres viandes</td>\n",
       "    </tr>\n",
       "  </tbody>\n",
       "</table>\n",
       "</div>"
      ],
      "text/plain": [
       "   f1-score  precision    recall  support  \\\n",
       "0  0.800000   0.666667  1.000000      2.0   \n",
       "1  0.971429   1.000000  0.944444     18.0   \n",
       "2  0.823529   0.875000  0.777778      9.0   \n",
       "3  0.865497   0.875740  0.855491    173.0   \n",
       "4  0.585366   0.571429  0.600000     20.0   \n",
       "5  0.845771   0.825243  0.867347    196.0   \n",
       "6  0.884354   0.902778  0.866667     75.0   \n",
       "7  0.888889   0.880000  0.897959     98.0   \n",
       "8  0.717949   0.682927  0.756757     37.0   \n",
       "9  0.888889   1.000000  0.800000      5.0   \n",
       "\n",
       "                                               class  \n",
       "0                           Autres graisses animales  \n",
       "1                          Autres huiles comestibles  \n",
       "2  Autres légumes à légumes et préparations à bas...  \n",
       "3                   Autres produits alimentaires nca  \n",
       "4                         Autres produits céréaliers  \n",
       "5                     Autres produits de boulangerie  \n",
       "6                           Autres produits laitiers  \n",
       "7  Autres préparations de poisson et de fruits de...  \n",
       "8                      Autres préparations de viande  \n",
       "9                                     Autres viandes  "
      ]
     },
     "execution_count": 122,
     "metadata": {},
     "output_type": "execute_result"
    }
   ],
   "source": [
    "# classification report\n",
    "\n",
    "report = classification_report(list_actual, list_predicted, output_dict=True)\n",
    "df_class = pd.DataFrame(report).transpose()\n",
    "df_class[\"class\"] = df_class.index\n",
    "df_class = df_class.reset_index(drop=True)\n",
    "df_class.to_csv(output_dir + \"classification_report.csv\")\n",
    "\n",
    "df_class.head(10)"
   ]
  },
  {
   "cell_type": "code",
   "execution_count": 123,
   "metadata": {},
   "outputs": [
    {
     "data": {
      "text/html": [
       "<div>\n",
       "<style scoped>\n",
       "    .dataframe tbody tr th:only-of-type {\n",
       "        vertical-align: middle;\n",
       "    }\n",
       "\n",
       "    .dataframe tbody tr th {\n",
       "        vertical-align: top;\n",
       "    }\n",
       "\n",
       "    .dataframe thead th {\n",
       "        text-align: right;\n",
       "    }\n",
       "</style>\n",
       "<table border=\"1\" class=\"dataframe\">\n",
       "  <thead>\n",
       "    <tr style=\"text-align: right;\">\n",
       "      <th></th>\n",
       "      <th>f1-score</th>\n",
       "      <th>precision</th>\n",
       "      <th>recall</th>\n",
       "      <th>support</th>\n",
       "      <th>class</th>\n",
       "    </tr>\n",
       "  </thead>\n",
       "  <tbody>\n",
       "    <tr>\n",
       "      <th>63</th>\n",
       "      <td>0.883340</td>\n",
       "      <td>0.886184</td>\n",
       "      <td>0.883333</td>\n",
       "      <td>3420.0</td>\n",
       "      <td>weighted avg</td>\n",
       "    </tr>\n",
       "    <tr>\n",
       "      <th>62</th>\n",
       "      <td>0.840284</td>\n",
       "      <td>0.846101</td>\n",
       "      <td>0.848414</td>\n",
       "      <td>3420.0</td>\n",
       "      <td>macro avg</td>\n",
       "    </tr>\n",
       "    <tr>\n",
       "      <th>61</th>\n",
       "      <td>0.883333</td>\n",
       "      <td>0.883333</td>\n",
       "      <td>0.883333</td>\n",
       "      <td>3420.0</td>\n",
       "      <td>micro avg</td>\n",
       "    </tr>\n",
       "  </tbody>\n",
       "</table>\n",
       "</div>"
      ],
      "text/plain": [
       "    f1-score  precision    recall  support         class\n",
       "63  0.883340   0.886184  0.883333   3420.0  weighted avg\n",
       "62  0.840284   0.846101  0.848414   3420.0     macro avg\n",
       "61  0.883333   0.883333  0.883333   3420.0     micro avg"
      ]
     },
     "execution_count": 123,
     "metadata": {},
     "output_type": "execute_result"
    }
   ],
   "source": [
    "# overall F1, precision, recall metrics are included in the classification report\n",
    "f1_weighted_avg = df_class.iloc[-1,0]\n",
    "precision_weighted_avg = df_class.iloc[-1,0]\n",
    "recall_weighted_avg = df_class.iloc[-1,2]\n",
    "\n",
    "f1_macro_avg = df_class.iloc[-2,0]\n",
    "precision_macro_avg = df_class.iloc[-2,0]\n",
    "recall_macro_avg = df_class.iloc[-2,2]\n",
    "\n",
    "# create a df to show data\n",
    "df_metrics = df_class.iloc[[-1,-2,-3]]\n",
    "df_metrics.head()"
   ]
  },
  {
   "cell_type": "code",
   "execution_count": 124,
   "metadata": {},
   "outputs": [],
   "source": [
    "# produce a report with model evaluation metrics\n",
    "report = open(model_dir+\"MODEL_METRICS.txt\",\"w\")\n",
    "lines = [\"Overall Accuracy: \"+str(overall_acc)+\"\\n\",  \n",
    "        \"Threshold Applied: \"+str(threshold)+\"\\n\", \n",
    "        \"Accuracy: \"+str(accuracy)+\"\\n\", \n",
    "        \"Coding Rate:\"+str(codingrate)+\"\\n\"+\"\\n\", \n",
    "         \n",
    "         \n",
    "        'Type: '+str('Weighted Average')+\", \"+str('Macro Average')+\"\\n\",\n",
    "        'F1_score: '+str(f1_weighted_avg)+\", \"+str(f1_macro_avg)+\"\\n\",         \n",
    "        'Precision: '+str(precision_weighted_avg)+\", \"+str(precision_macro_avg)+\"\\n\",      \n",
    "        'Recall: '+str(recall_weighted_avg)+\", \"+str(recall_macro_avg)+\"\\n\",      \n",
    "        ]\n",
    "report.writelines(lines) \n",
    "report.close()"
   ]
  },
  {
   "cell_type": "code",
   "execution_count": 125,
   "metadata": {},
   "outputs": [
    {
     "name": "stdout",
     "output_type": "stream",
     "text": [
      "done\n"
     ]
    }
   ],
   "source": [
    "print('done')"
   ]
  }
 ],
 "metadata": {
  "kernelspec": {
   "display_name": "Python 3",
   "language": "python",
   "name": "python3"
  },
  "language_info": {
   "codemirror_mode": {
    "name": "ipython",
    "version": 3
   },
   "file_extension": ".py",
   "mimetype": "text/x-python",
   "name": "python",
   "nbconvert_exporter": "python",
   "pygments_lexer": "ipython3",
   "version": "3.7.3"
  }
 },
 "nbformat": 4,
 "nbformat_minor": 2
}
