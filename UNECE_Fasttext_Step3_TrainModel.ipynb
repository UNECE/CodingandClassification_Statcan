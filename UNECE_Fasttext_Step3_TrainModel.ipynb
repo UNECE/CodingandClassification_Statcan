{
 "cells": [
  {
   "cell_type": "code",
   "execution_count": 7,
   "metadata": {},
   "outputs": [],
   "source": [
    "# The following European Classification of Individual Consumption according to Purpose (ECOICOP) data \n",
    "# used for this example is open-source, provided by Statistics Poland\n",
    "\n",
    "# Link: https://github.com/UNECE/ML_dataset"
   ]
  },
  {
   "cell_type": "code",
   "execution_count": 8,
   "metadata": {},
   "outputs": [],
   "source": [
    "import fasttext\n",
    "import os\n",
    "import pickle\n",
    "from pathlib import Path"
   ]
  },
  {
   "cell_type": "code",
   "execution_count": 9,
   "metadata": {},
   "outputs": [],
   "source": [
    "### Define file locations ###\n",
    "\n",
    "data_dir = \"C:\\\\Users\\\\Justin Evans\\\\Documents\\\\Python\\\\UNECE\\\\Poland_FastText\\\\\"\n",
    "model_dir = \"C:\\\\Users\\\\Justin Evans\\\\Documents\\\\Python\\\\UNECE\\\\Poland_FastText\\\\\"\n",
    "args_file = Path(model_dir + \"args.txt\")\n"
   ]
  },
  {
   "cell_type": "code",
   "execution_count": 10,
   "metadata": {},
   "outputs": [],
   "source": [
    "# Define the default parameters\n",
    "model_name = \"model.bin\"\n",
    "\n",
    "# set up default parameters (if hyperparameter step was not used):\n",
    "epochs = 20\n",
    "learning_rate = 0.7\n",
    "dimensions = 60 # original 500\n",
    "minimum_word_count = 6\n",
    "word_ngrams = 6\n",
    "min_char_grams =4\n",
    "max_char_grams =5"
   ]
  },
  {
   "cell_type": "code",
   "execution_count": 11,
   "metadata": {},
   "outputs": [],
   "source": [
    "train_data = os.path.join(os.getenv(\"DATADIR\",\"\"),model_dir+\"train.txt\")\n",
    "# test_data = os.path.join(os.getenv(\"DATADIR\",\"\"),model_dir+\"test_naics.txt\")"
   ]
  },
  {
   "cell_type": "code",
   "execution_count": 12,
   "metadata": {},
   "outputs": [
    {
     "name": "stdout",
     "output_type": "stream",
     "text": [
      "Created model based on hyperparameter results\n"
     ]
    }
   ],
   "source": [
    "# if our hyperparameter tune file exists we will use the best result, else run our default parameters\n",
    "if args_file.is_file():\n",
    "    \n",
    "    # load the arguements file created during hyperparameter tuning\n",
    "    with open(\"args.txt\", \"rb\") as file:\n",
    "        args = pickle.load(file) \n",
    "    \n",
    "    model = fasttext.train_supervised(input=train_data, epoch=int(args['epochs']), lr=float(args['learning_rate']),\n",
    "                                  dim=int(args['dimensions']), minCount=int(args['minimum_word_count']),\n",
    "                                  wordNgrams=int(args['word_ngrams']), minn=int(args['min_char_grams']),\n",
    "                                  maxn=int(args['max_char_grams']))\n",
    "    print(\"Created model based on hyperparameter results\")\n",
    "\n",
    "else:\n",
    "    model = fasttext.train_supervised(input=train_data,epoch=epochs,lr=learning_rate,dim=dimensions,minCount=minimum_word_count,\n",
    "                                  wordNgrams=word_ngrams,minn=min_char_grams,maxn=max_char_grams)\n",
    "    \n",
    "    # produce a report with model info\n",
    "    report = open(model_dir+\"Model_Parameters.txt\",\"w\")\n",
    "    lines = [\"Epochs: \"+str(epochs)+\"\\n\",\"Learning Rate: \"+ str(learning_rate)+\"\\n\",\n",
    "            \"Dimensions: \"+str(dimensions)+\"\\n\", \"Minimum Word Count: \"+str(minimum_word_count)+\"\\n\",\n",
    "             \"Word NGrams: \" +str(word_ngrams)+\"\\n\", \n",
    "             \"Min Char grams: \" +str(min_char_grams)+\"\\n\", \"Max Char Grams: \" +str(max_char_grams)+\"\\n\"]\n",
    "    report.writelines(lines) \n",
    "    report.close()\n",
    "    print(\"Created model based on default parameters\")\n"
   ]
  },
  {
   "cell_type": "code",
   "execution_count": 13,
   "metadata": {},
   "outputs": [],
   "source": [
    "model.save_model(model_dir+model_name)"
   ]
  },
  {
   "cell_type": "code",
   "execution_count": 14,
   "metadata": {},
   "outputs": [
    {
     "name": "stdout",
     "output_type": "stream",
     "text": [
      "model is saved!\n"
     ]
    }
   ],
   "source": [
    "print(\"model is saved!\")"
   ]
  }
 ],
 "metadata": {
  "kernelspec": {
   "display_name": "Python 3",
   "language": "python",
   "name": "python3"
  },
  "language_info": {
   "codemirror_mode": {
    "name": "ipython",
    "version": 3
   },
   "file_extension": ".py",
   "mimetype": "text/x-python",
   "name": "python",
   "nbconvert_exporter": "python",
   "pygments_lexer": "ipython3",
   "version": "3.7.3"
  }
 },
 "nbformat": 4,
 "nbformat_minor": 2
}
