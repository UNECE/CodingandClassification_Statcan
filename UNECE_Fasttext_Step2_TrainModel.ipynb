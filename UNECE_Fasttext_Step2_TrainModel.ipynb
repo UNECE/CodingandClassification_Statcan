{
 "cells": [
  {
   "cell_type": "code",
   "execution_count": null,
   "metadata": {},
   "outputs": [],
   "source": [
    "# The following ECOICOP data used for this example is open-source, provided by Statistics Poland \n",
    "\n",
    "# Link: https://statswiki.unece.org/download/attachments/256969394/Stats%20Poland%20ECOICOP%20data%20translated%20to%20English%20and%20French.xlsx?version=1&modificationDate=1570023568166&api=v2"
   ]
  },
  {
   "cell_type": "code",
   "execution_count": 9,
   "metadata": {},
   "outputs": [],
   "source": [
    "import fasttext\n",
    "import os"
   ]
  },
  {
   "cell_type": "code",
   "execution_count": 10,
   "metadata": {},
   "outputs": [],
   "source": [
    "### Define file locations ###\n",
    "\n",
    "data_dir = \"Z:\\\\Team_Folders\\\\Evans\\\\python_scripts\\\\HLG_MOS\\\\Poland_FastText\\\\Data\\\\French\\\\\"\n",
    "model_dir = \"Z:\\\\Team_Folders\\\\Evans\\\\python_scripts\\\\HLG_MOS\\\\Poland_FastText\\\\Data\\\\French\\\\\"\n",
    "\n",
    "model_name = \"model.bin\""
   ]
  },
  {
   "cell_type": "code",
   "execution_count": 11,
   "metadata": {},
   "outputs": [],
   "source": [
    "# set your parameters:\n",
    "epochs = 20\n",
    "learning_rate = 0.7\n",
    "dimensions = 60 # original 500\n",
    "minimum_word_count = 6\n",
    "word_ngrams = 6\n",
    "min_char_grams =4\n",
    "max_char_grams =5"
   ]
  },
  {
   "cell_type": "code",
   "execution_count": 12,
   "metadata": {},
   "outputs": [],
   "source": [
    "# produce a report with model info\n",
    "report = open(model_dir+\"Model_Parameters.txt\",\"w\")\n",
    "lines = [\"Epochs: \"+str(epochs)+\"\\n\",\"Learning Rate: \"+ str(learning_rate)+\"\\n\",\n",
    "        \"Dimensions: \"+str(dimensions)+\"\\n\", \"Minimum Word Count: \"+str(minimum_word_count)+\"\\n\",\n",
    "         \"Word NGrams: \" +str(word_ngrams)+\"\\n\", \n",
    "         \"Min Char grams: \" +str(min_char_grams)+\"\\n\", \"Max Char Grams: \" +str(max_char_grams)+\"\\n\"]\n",
    "report.writelines(lines) \n",
    "report.close()"
   ]
  },
  {
   "cell_type": "code",
   "execution_count": 13,
   "metadata": {},
   "outputs": [],
   "source": [
    "train_data = os.path.join(os.getenv(\"DATADIR\",\"\"),model_dir+\"train.txt\")\n",
    "# test_data = os.path.join(os.getenv(\"DATADIR\",\"\"),model_dir+\"test_naics.txt\")"
   ]
  },
  {
   "cell_type": "code",
   "execution_count": 16,
   "metadata": {},
   "outputs": [],
   "source": [
    "model = fasttext.train_supervised(input=train_data,epoch=epochs,lr=learning_rate,dim=dimensions,minCount=minimum_word_count,\n",
    "                                  wordNgrams=word_ngrams,minn=min_char_grams,maxn=max_char_grams)\n"
   ]
  },
  {
   "cell_type": "code",
   "execution_count": 17,
   "metadata": {},
   "outputs": [],
   "source": [
    "model.save_model(model_dir+model_name)"
   ]
  },
  {
   "cell_type": "code",
   "execution_count": 20,
   "metadata": {},
   "outputs": [
    {
     "name": "stdout",
     "output_type": "stream",
     "text": [
      "model is saved!\n"
     ]
    }
   ],
   "source": [
    "print(\"model is saved!\")"
   ]
  }
 ],
 "metadata": {
  "kernelspec": {
   "display_name": "Python 3",
   "language": "python",
   "name": "python3"
  },
  "language_info": {
   "codemirror_mode": {
    "name": "ipython",
    "version": 3
   },
   "file_extension": ".py",
   "mimetype": "text/x-python",
   "name": "python",
   "nbconvert_exporter": "python",
   "pygments_lexer": "ipython3",
   "version": "3.7.0"
  }
 },
 "nbformat": 4,
 "nbformat_minor": 2
}
